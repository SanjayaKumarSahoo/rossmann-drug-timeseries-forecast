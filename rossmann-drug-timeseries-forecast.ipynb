{
 "cells": [
  {
   "cell_type": "markdown",
   "id": "81f0b9aa-28e6-461b-bfb4-f39aa191117b",
   "metadata": {},
   "source": [
    "# Problem Statement"
   ]
  },
  {
   "cell_type": "markdown",
   "id": "d9bcee92-5c56-48f9-a3dc-1f7d9dbc6f35",
   "metadata": {},
   "source": [
    "Rossmann is a European drug distributor which operates over 3,000 drug stores across seven European countries. Since a lot of drugs come with a short shelf life, that is, they do not have a long expiry date, it becomes imperative for Rossmann to accurately forecast sales at their individual stores. Currently, the forecasting is taken care of by the store managers who are tasked with forecasting daily sales for the next six weeks. \n",
    "\n",
    " \n",
    "\n",
    "As expected, store sales are influenced by many factors, including promotional campaigns, competition, state holidays, seasonality, and locality.\n",
    "\n",
    " \n",
    "\n",
    "With thousands of individual managers predicting sales based on their unique circumstances and intuitions, the accuracy of the forecasts is quite varied. To overcome this problem, the company has hired you as a data scientist to work on the forecasting problem. As part of your job role, you are tasked with building a forecasting model to forecast the daily sales for the next six weeks. To help you with the same, you have been provided with historical sales data for 1,115 Rossmann stores.\n",
    "\n"
   ]
  },
  {
   "cell_type": "markdown",
   "id": "22e8a312-c82a-477f-bfb9-c3e0d58e7777",
   "metadata": {},
   "source": [
    "# Importing required libraries"
   ]
  },
  {
   "cell_type": "code",
   "execution_count": 6,
   "id": "5239cd20-a4e0-4349-863e-8012c7bc7ec9",
   "metadata": {},
   "outputs": [],
   "source": [
    "import pandas as pd \n",
    "import numpy as np \n",
    "import matplotlib.pyplot as plt\n",
    "%matplotlib inline\n",
    "\n",
    "import warnings\n",
    "warnings.filterwarnings(\"ignore\")\n",
    "\n",
    "import seaborn as sns"
   ]
  },
  {
   "cell_type": "markdown",
   "id": "b17341a3-3253-4edd-b9f0-2c2550e05ebf",
   "metadata": {},
   "source": [
    "# Importing Data"
   ]
  },
  {
   "cell_type": "code",
   "execution_count": 39,
   "id": "18f91cf6-fa23-47d3-a933-6aee78ee8b3b",
   "metadata": {},
   "outputs": [],
   "source": [
    "# Data Reading\n",
    "train = pd.read_csv(\"Dataset/train.csv\")\n",
    "store = pd.read_csv(\"Dataset/store.csv\")"
   ]
  },
  {
   "cell_type": "code",
   "execution_count": 41,
   "id": "e694bf4f-400f-4684-aecc-6efcaaeb0dd5",
   "metadata": {},
   "outputs": [
    {
     "data": {
      "text/html": [
       "<div>\n",
       "<style scoped>\n",
       "    .dataframe tbody tr th:only-of-type {\n",
       "        vertical-align: middle;\n",
       "    }\n",
       "\n",
       "    .dataframe tbody tr th {\n",
       "        vertical-align: top;\n",
       "    }\n",
       "\n",
       "    .dataframe thead th {\n",
       "        text-align: right;\n",
       "    }\n",
       "</style>\n",
       "<table border=\"1\" class=\"dataframe\">\n",
       "  <thead>\n",
       "    <tr style=\"text-align: right;\">\n",
       "      <th></th>\n",
       "      <th>Store</th>\n",
       "      <th>DayOfWeek</th>\n",
       "      <th>Date</th>\n",
       "      <th>Sales</th>\n",
       "      <th>Customers</th>\n",
       "      <th>Open</th>\n",
       "      <th>Promo</th>\n",
       "      <th>StateHoliday</th>\n",
       "      <th>SchoolHoliday</th>\n",
       "    </tr>\n",
       "  </thead>\n",
       "  <tbody>\n",
       "    <tr>\n",
       "      <th>0</th>\n",
       "      <td>1</td>\n",
       "      <td>5</td>\n",
       "      <td>2015-07-31</td>\n",
       "      <td>5263</td>\n",
       "      <td>555</td>\n",
       "      <td>1</td>\n",
       "      <td>1</td>\n",
       "      <td>0</td>\n",
       "      <td>1</td>\n",
       "    </tr>\n",
       "    <tr>\n",
       "      <th>1</th>\n",
       "      <td>2</td>\n",
       "      <td>5</td>\n",
       "      <td>2015-07-31</td>\n",
       "      <td>6064</td>\n",
       "      <td>625</td>\n",
       "      <td>1</td>\n",
       "      <td>1</td>\n",
       "      <td>0</td>\n",
       "      <td>1</td>\n",
       "    </tr>\n",
       "    <tr>\n",
       "      <th>2</th>\n",
       "      <td>3</td>\n",
       "      <td>5</td>\n",
       "      <td>2015-07-31</td>\n",
       "      <td>8314</td>\n",
       "      <td>821</td>\n",
       "      <td>1</td>\n",
       "      <td>1</td>\n",
       "      <td>0</td>\n",
       "      <td>1</td>\n",
       "    </tr>\n",
       "    <tr>\n",
       "      <th>3</th>\n",
       "      <td>4</td>\n",
       "      <td>5</td>\n",
       "      <td>2015-07-31</td>\n",
       "      <td>13995</td>\n",
       "      <td>1498</td>\n",
       "      <td>1</td>\n",
       "      <td>1</td>\n",
       "      <td>0</td>\n",
       "      <td>1</td>\n",
       "    </tr>\n",
       "    <tr>\n",
       "      <th>4</th>\n",
       "      <td>5</td>\n",
       "      <td>5</td>\n",
       "      <td>2015-07-31</td>\n",
       "      <td>4822</td>\n",
       "      <td>559</td>\n",
       "      <td>1</td>\n",
       "      <td>1</td>\n",
       "      <td>0</td>\n",
       "      <td>1</td>\n",
       "    </tr>\n",
       "  </tbody>\n",
       "</table>\n",
       "</div>"
      ],
      "text/plain": [
       "   Store  DayOfWeek        Date  Sales  Customers  Open  Promo StateHoliday  \\\n",
       "0      1          5  2015-07-31   5263        555     1      1            0   \n",
       "1      2          5  2015-07-31   6064        625     1      1            0   \n",
       "2      3          5  2015-07-31   8314        821     1      1            0   \n",
       "3      4          5  2015-07-31  13995       1498     1      1            0   \n",
       "4      5          5  2015-07-31   4822        559     1      1            0   \n",
       "\n",
       "   SchoolHoliday  \n",
       "0              1  \n",
       "1              1  \n",
       "2              1  \n",
       "3              1  \n",
       "4              1  "
      ]
     },
     "execution_count": 41,
     "metadata": {},
     "output_type": "execute_result"
    }
   ],
   "source": [
    "train.head()"
   ]
  },
  {
   "cell_type": "markdown",
   "id": "8397b4a7-57fa-4785-9374-1b8f743db28a",
   "metadata": {},
   "source": [
    "# EDA"
   ]
  },
  {
   "cell_type": "code",
   "execution_count": 44,
   "id": "58eb516d-8efd-48b6-ba5c-c7b9a8a8e362",
   "metadata": {},
   "outputs": [
    {
     "data": {
      "text/plain": [
       "(1017209, 9)"
      ]
     },
     "execution_count": 44,
     "metadata": {},
     "output_type": "execute_result"
    }
   ],
   "source": [
    "# checking train data shape\n",
    "train.shape"
   ]
  },
  {
   "cell_type": "code",
   "execution_count": 46,
   "id": "e8521e91-cd3c-401e-8536-54c4cf28995d",
   "metadata": {
    "scrolled": true
   },
   "outputs": [
    {
     "name": "stdout",
     "output_type": "stream",
     "text": [
      "<class 'pandas.core.frame.DataFrame'>\n",
      "RangeIndex: 1017209 entries, 0 to 1017208\n",
      "Data columns (total 9 columns):\n",
      " #   Column         Non-Null Count    Dtype \n",
      "---  ------         --------------    ----- \n",
      " 0   Store          1017209 non-null  int64 \n",
      " 1   DayOfWeek      1017209 non-null  int64 \n",
      " 2   Date           1017209 non-null  object\n",
      " 3   Sales          1017209 non-null  int64 \n",
      " 4   Customers      1017209 non-null  int64 \n",
      " 5   Open           1017209 non-null  int64 \n",
      " 6   Promo          1017209 non-null  int64 \n",
      " 7   StateHoliday   1017209 non-null  object\n",
      " 8   SchoolHoliday  1017209 non-null  int64 \n",
      "dtypes: int64(7), object(2)\n",
      "memory usage: 69.8+ MB\n"
     ]
    }
   ],
   "source": [
    "train.info()"
   ]
  },
  {
   "cell_type": "code",
   "execution_count": 72,
   "id": "912977ae-218c-4901-9920-2cfffa6df378",
   "metadata": {},
   "outputs": [
    {
     "data": {
      "text/plain": [
       "Store            0.0\n",
       "DayOfWeek        0.0\n",
       "Date             0.0\n",
       "Sales            0.0\n",
       "Customers        0.0\n",
       "Open             0.0\n",
       "Promo            0.0\n",
       "StateHoliday     0.0\n",
       "SchoolHoliday    0.0\n",
       "dtype: float64"
      ]
     },
     "execution_count": 72,
     "metadata": {},
     "output_type": "execute_result"
    }
   ],
   "source": [
    "# finding percentage of null values in each columns\n",
    "100*train.isnull().sum()/train.shape[0]"
   ]
  },
  {
   "cell_type": "markdown",
   "id": "60d2310c-8bfa-476e-a1a8-1226e90479d6",
   "metadata": {},
   "source": [
    "- <b> All data points are valid and thus do not necessitate any imputation or additional analysis."
   ]
  },
  {
   "cell_type": "code",
   "execution_count": 75,
   "id": "8bbda526-824c-453b-ba78-0fb9746d995f",
   "metadata": {
    "scrolled": true
   },
   "outputs": [
    {
     "data": {
      "text/html": [
       "<div>\n",
       "<style scoped>\n",
       "    .dataframe tbody tr th:only-of-type {\n",
       "        vertical-align: middle;\n",
       "    }\n",
       "\n",
       "    .dataframe tbody tr th {\n",
       "        vertical-align: top;\n",
       "    }\n",
       "\n",
       "    .dataframe thead th {\n",
       "        text-align: right;\n",
       "    }\n",
       "</style>\n",
       "<table border=\"1\" class=\"dataframe\">\n",
       "  <thead>\n",
       "    <tr style=\"text-align: right;\">\n",
       "      <th></th>\n",
       "      <th>Store</th>\n",
       "      <th>DayOfWeek</th>\n",
       "      <th>Sales</th>\n",
       "      <th>Customers</th>\n",
       "      <th>Open</th>\n",
       "      <th>Promo</th>\n",
       "      <th>SchoolHoliday</th>\n",
       "    </tr>\n",
       "  </thead>\n",
       "  <tbody>\n",
       "    <tr>\n",
       "      <th>count</th>\n",
       "      <td>1.017209e+06</td>\n",
       "      <td>1.017209e+06</td>\n",
       "      <td>1.017209e+06</td>\n",
       "      <td>1.017209e+06</td>\n",
       "      <td>1.017209e+06</td>\n",
       "      <td>1.017209e+06</td>\n",
       "      <td>1.017209e+06</td>\n",
       "    </tr>\n",
       "    <tr>\n",
       "      <th>mean</th>\n",
       "      <td>5.584297e+02</td>\n",
       "      <td>3.998341e+00</td>\n",
       "      <td>5.773819e+03</td>\n",
       "      <td>6.331459e+02</td>\n",
       "      <td>8.301067e-01</td>\n",
       "      <td>3.815145e-01</td>\n",
       "      <td>1.786467e-01</td>\n",
       "    </tr>\n",
       "    <tr>\n",
       "      <th>std</th>\n",
       "      <td>3.219087e+02</td>\n",
       "      <td>1.997391e+00</td>\n",
       "      <td>3.849926e+03</td>\n",
       "      <td>4.644117e+02</td>\n",
       "      <td>3.755392e-01</td>\n",
       "      <td>4.857586e-01</td>\n",
       "      <td>3.830564e-01</td>\n",
       "    </tr>\n",
       "    <tr>\n",
       "      <th>min</th>\n",
       "      <td>1.000000e+00</td>\n",
       "      <td>1.000000e+00</td>\n",
       "      <td>0.000000e+00</td>\n",
       "      <td>0.000000e+00</td>\n",
       "      <td>0.000000e+00</td>\n",
       "      <td>0.000000e+00</td>\n",
       "      <td>0.000000e+00</td>\n",
       "    </tr>\n",
       "    <tr>\n",
       "      <th>25%</th>\n",
       "      <td>2.800000e+02</td>\n",
       "      <td>2.000000e+00</td>\n",
       "      <td>3.727000e+03</td>\n",
       "      <td>4.050000e+02</td>\n",
       "      <td>1.000000e+00</td>\n",
       "      <td>0.000000e+00</td>\n",
       "      <td>0.000000e+00</td>\n",
       "    </tr>\n",
       "    <tr>\n",
       "      <th>50%</th>\n",
       "      <td>5.580000e+02</td>\n",
       "      <td>4.000000e+00</td>\n",
       "      <td>5.744000e+03</td>\n",
       "      <td>6.090000e+02</td>\n",
       "      <td>1.000000e+00</td>\n",
       "      <td>0.000000e+00</td>\n",
       "      <td>0.000000e+00</td>\n",
       "    </tr>\n",
       "    <tr>\n",
       "      <th>75%</th>\n",
       "      <td>8.380000e+02</td>\n",
       "      <td>6.000000e+00</td>\n",
       "      <td>7.856000e+03</td>\n",
       "      <td>8.370000e+02</td>\n",
       "      <td>1.000000e+00</td>\n",
       "      <td>1.000000e+00</td>\n",
       "      <td>0.000000e+00</td>\n",
       "    </tr>\n",
       "    <tr>\n",
       "      <th>max</th>\n",
       "      <td>1.115000e+03</td>\n",
       "      <td>7.000000e+00</td>\n",
       "      <td>4.155100e+04</td>\n",
       "      <td>7.388000e+03</td>\n",
       "      <td>1.000000e+00</td>\n",
       "      <td>1.000000e+00</td>\n",
       "      <td>1.000000e+00</td>\n",
       "    </tr>\n",
       "  </tbody>\n",
       "</table>\n",
       "</div>"
      ],
      "text/plain": [
       "              Store     DayOfWeek         Sales     Customers          Open  \\\n",
       "count  1.017209e+06  1.017209e+06  1.017209e+06  1.017209e+06  1.017209e+06   \n",
       "mean   5.584297e+02  3.998341e+00  5.773819e+03  6.331459e+02  8.301067e-01   \n",
       "std    3.219087e+02  1.997391e+00  3.849926e+03  4.644117e+02  3.755392e-01   \n",
       "min    1.000000e+00  1.000000e+00  0.000000e+00  0.000000e+00  0.000000e+00   \n",
       "25%    2.800000e+02  2.000000e+00  3.727000e+03  4.050000e+02  1.000000e+00   \n",
       "50%    5.580000e+02  4.000000e+00  5.744000e+03  6.090000e+02  1.000000e+00   \n",
       "75%    8.380000e+02  6.000000e+00  7.856000e+03  8.370000e+02  1.000000e+00   \n",
       "max    1.115000e+03  7.000000e+00  4.155100e+04  7.388000e+03  1.000000e+00   \n",
       "\n",
       "              Promo  SchoolHoliday  \n",
       "count  1.017209e+06   1.017209e+06  \n",
       "mean   3.815145e-01   1.786467e-01  \n",
       "std    4.857586e-01   3.830564e-01  \n",
       "min    0.000000e+00   0.000000e+00  \n",
       "25%    0.000000e+00   0.000000e+00  \n",
       "50%    0.000000e+00   0.000000e+00  \n",
       "75%    1.000000e+00   0.000000e+00  \n",
       "max    1.000000e+00   1.000000e+00  "
      ]
     },
     "execution_count": 75,
     "metadata": {},
     "output_type": "execute_result"
    }
   ],
   "source": [
    "# describing train datasets\n",
    "train.describe()"
   ]
  },
  {
   "cell_type": "code",
   "execution_count": 77,
   "id": "c97cd24d-4a05-4048-9b44-bc7109b2726b",
   "metadata": {},
   "outputs": [
    {
     "data": {
      "text/html": [
       "<div>\n",
       "<style scoped>\n",
       "    .dataframe tbody tr th:only-of-type {\n",
       "        vertical-align: middle;\n",
       "    }\n",
       "\n",
       "    .dataframe tbody tr th {\n",
       "        vertical-align: top;\n",
       "    }\n",
       "\n",
       "    .dataframe thead th {\n",
       "        text-align: right;\n",
       "    }\n",
       "</style>\n",
       "<table border=\"1\" class=\"dataframe\">\n",
       "  <thead>\n",
       "    <tr style=\"text-align: right;\">\n",
       "      <th></th>\n",
       "      <th>Store</th>\n",
       "      <th>StoreType</th>\n",
       "      <th>Assortment</th>\n",
       "      <th>CompetitionDistance</th>\n",
       "      <th>CompetitionOpenSinceMonth</th>\n",
       "      <th>CompetitionOpenSinceYear</th>\n",
       "      <th>Promo2</th>\n",
       "      <th>Promo2SinceWeek</th>\n",
       "      <th>Promo2SinceYear</th>\n",
       "      <th>PromoInterval</th>\n",
       "    </tr>\n",
       "  </thead>\n",
       "  <tbody>\n",
       "    <tr>\n",
       "      <th>0</th>\n",
       "      <td>1</td>\n",
       "      <td>c</td>\n",
       "      <td>a</td>\n",
       "      <td>1270.0</td>\n",
       "      <td>9.0</td>\n",
       "      <td>2008.0</td>\n",
       "      <td>0</td>\n",
       "      <td>NaN</td>\n",
       "      <td>NaN</td>\n",
       "      <td>NaN</td>\n",
       "    </tr>\n",
       "    <tr>\n",
       "      <th>1</th>\n",
       "      <td>2</td>\n",
       "      <td>a</td>\n",
       "      <td>a</td>\n",
       "      <td>570.0</td>\n",
       "      <td>11.0</td>\n",
       "      <td>2007.0</td>\n",
       "      <td>1</td>\n",
       "      <td>13.0</td>\n",
       "      <td>2010.0</td>\n",
       "      <td>Jan,Apr,Jul,Oct</td>\n",
       "    </tr>\n",
       "    <tr>\n",
       "      <th>2</th>\n",
       "      <td>3</td>\n",
       "      <td>a</td>\n",
       "      <td>a</td>\n",
       "      <td>14130.0</td>\n",
       "      <td>12.0</td>\n",
       "      <td>2006.0</td>\n",
       "      <td>1</td>\n",
       "      <td>14.0</td>\n",
       "      <td>2011.0</td>\n",
       "      <td>Jan,Apr,Jul,Oct</td>\n",
       "    </tr>\n",
       "    <tr>\n",
       "      <th>3</th>\n",
       "      <td>4</td>\n",
       "      <td>c</td>\n",
       "      <td>c</td>\n",
       "      <td>620.0</td>\n",
       "      <td>9.0</td>\n",
       "      <td>2009.0</td>\n",
       "      <td>0</td>\n",
       "      <td>NaN</td>\n",
       "      <td>NaN</td>\n",
       "      <td>NaN</td>\n",
       "    </tr>\n",
       "    <tr>\n",
       "      <th>4</th>\n",
       "      <td>5</td>\n",
       "      <td>a</td>\n",
       "      <td>a</td>\n",
       "      <td>29910.0</td>\n",
       "      <td>4.0</td>\n",
       "      <td>2015.0</td>\n",
       "      <td>0</td>\n",
       "      <td>NaN</td>\n",
       "      <td>NaN</td>\n",
       "      <td>NaN</td>\n",
       "    </tr>\n",
       "  </tbody>\n",
       "</table>\n",
       "</div>"
      ],
      "text/plain": [
       "   Store StoreType Assortment  CompetitionDistance  CompetitionOpenSinceMonth  \\\n",
       "0      1         c          a               1270.0                        9.0   \n",
       "1      2         a          a                570.0                       11.0   \n",
       "2      3         a          a              14130.0                       12.0   \n",
       "3      4         c          c                620.0                        9.0   \n",
       "4      5         a          a              29910.0                        4.0   \n",
       "\n",
       "   CompetitionOpenSinceYear  Promo2  Promo2SinceWeek  Promo2SinceYear  \\\n",
       "0                    2008.0       0              NaN              NaN   \n",
       "1                    2007.0       1             13.0           2010.0   \n",
       "2                    2006.0       1             14.0           2011.0   \n",
       "3                    2009.0       0              NaN              NaN   \n",
       "4                    2015.0       0              NaN              NaN   \n",
       "\n",
       "     PromoInterval  \n",
       "0              NaN  \n",
       "1  Jan,Apr,Jul,Oct  \n",
       "2  Jan,Apr,Jul,Oct  \n",
       "3              NaN  \n",
       "4              NaN  "
      ]
     },
     "execution_count": 77,
     "metadata": {},
     "output_type": "execute_result"
    }
   ],
   "source": [
    "# view store dataset\n",
    "store.head()"
   ]
  },
  {
   "cell_type": "code",
   "execution_count": 79,
   "id": "a958e599-eef0-401d-b1fc-892f7c96f224",
   "metadata": {},
   "outputs": [
    {
     "data": {
      "text/plain": [
       "(1115, 10)"
      ]
     },
     "execution_count": 79,
     "metadata": {},
     "output_type": "execute_result"
    }
   ],
   "source": [
    "# shape of store datasets\n",
    "store.shape"
   ]
  },
  {
   "cell_type": "code",
   "execution_count": 81,
   "id": "cdbc2f93-f2e9-4564-b7d4-1c457b5883ee",
   "metadata": {},
   "outputs": [
    {
     "name": "stdout",
     "output_type": "stream",
     "text": [
      "<class 'pandas.core.frame.DataFrame'>\n",
      "RangeIndex: 1115 entries, 0 to 1114\n",
      "Data columns (total 10 columns):\n",
      " #   Column                     Non-Null Count  Dtype  \n",
      "---  ------                     --------------  -----  \n",
      " 0   Store                      1115 non-null   int64  \n",
      " 1   StoreType                  1115 non-null   object \n",
      " 2   Assortment                 1115 non-null   object \n",
      " 3   CompetitionDistance        1112 non-null   float64\n",
      " 4   CompetitionOpenSinceMonth  761 non-null    float64\n",
      " 5   CompetitionOpenSinceYear   761 non-null    float64\n",
      " 6   Promo2                     1115 non-null   int64  \n",
      " 7   Promo2SinceWeek            571 non-null    float64\n",
      " 8   Promo2SinceYear            571 non-null    float64\n",
      " 9   PromoInterval              571 non-null    object \n",
      "dtypes: float64(5), int64(2), object(3)\n",
      "memory usage: 87.2+ KB\n"
     ]
    }
   ],
   "source": [
    "# print info of store datasets\n",
    "store.info()"
   ]
  },
  {
   "cell_type": "code",
   "execution_count": 83,
   "id": "dc5ece4a-3633-4c17-b250-0b66df7aab1f",
   "metadata": {
    "scrolled": true
   },
   "outputs": [
    {
     "data": {
      "text/plain": [
       "Store                         0.000000\n",
       "StoreType                     0.000000\n",
       "Assortment                    0.000000\n",
       "CompetitionDistance           0.269058\n",
       "CompetitionOpenSinceMonth    31.748879\n",
       "CompetitionOpenSinceYear     31.748879\n",
       "Promo2                        0.000000\n",
       "Promo2SinceWeek              48.789238\n",
       "Promo2SinceYear              48.789238\n",
       "PromoInterval                48.789238\n",
       "dtype: float64"
      ]
     },
     "execution_count": 83,
     "metadata": {},
     "output_type": "execute_result"
    }
   ],
   "source": [
    "# finding percentage of null values in each columns\n",
    "100*store.isnull().sum()/store.shape[0]"
   ]
  },
  {
   "cell_type": "markdown",
   "id": "f77cf597-81f8-46c3-85ec-53d9227e1fe2",
   "metadata": {},
   "source": [
    "- we need to impute columns having null values\n",
    "- The lack of promotional values indicates that there are no active promotions in the store, which can be represented by a value of zero."
   ]
  },
  {
   "cell_type": "code",
   "execution_count": 92,
   "id": "448603b5-9829-45c7-bbc4-610150ae8514",
   "metadata": {},
   "outputs": [],
   "source": [
    "store['Promo2SinceWeek'].fillna(0, inplace=True)\n",
    "store['Promo2SinceYear'].fillna(0, inplace=True)\n",
    "store['PromoInterval'].fillna(0, inplace=True)"
   ]
  },
  {
   "cell_type": "markdown",
   "id": "c40c5530-dacb-4517-9e42-f8bff25084ac",
   "metadata": {},
   "source": [
    "- The CompetitionDistance field contains a negligible number of null values; therefore, we will replace these with the mean value."
   ]
  },
  {
   "cell_type": "code",
   "execution_count": 95,
   "id": "61b15572-46d6-491d-b22b-82831b59a951",
   "metadata": {},
   "outputs": [],
   "source": [
    "store['CompetitionDistance'].fillna(store['CompetitionDistance'].mean(), inplace=True)"
   ]
  },
  {
   "cell_type": "code",
   "execution_count": 97,
   "id": "cfda9cb3-ad0f-4e8b-9d3a-47ab391226f7",
   "metadata": {},
   "outputs": [
    {
     "data": {
      "text/plain": [
       "Store                         0.000000\n",
       "StoreType                     0.000000\n",
       "Assortment                    0.000000\n",
       "CompetitionDistance           0.000000\n",
       "CompetitionOpenSinceMonth    31.748879\n",
       "CompetitionOpenSinceYear     31.748879\n",
       "Promo2                        0.000000\n",
       "Promo2SinceWeek               0.000000\n",
       "Promo2SinceYear               0.000000\n",
       "PromoInterval                 0.000000\n",
       "dtype: float64"
      ]
     },
     "execution_count": 97,
     "metadata": {},
     "output_type": "execute_result"
    }
   ],
   "source": [
    "# checking again null values\n",
    "100*store.isnull().sum()/store.shape[0]"
   ]
  },
  {
   "cell_type": "markdown",
   "id": "31c418a2-dbd1-460f-9c0d-f956d29d8a70",
   "metadata": {},
   "source": [
    " - The variables CompetitionOpenSinceMonth and CompetitionOpenSinceYear contain null values, which we will address at a later stage following additional analysis.\n"
   ]
  },
  {
   "cell_type": "markdown",
   "id": "82f68b2c-8b66-460e-a532-5e83e4f75375",
   "metadata": {},
   "source": [
    "# Data Analysis"
   ]
  },
  {
   "cell_type": "code",
   "execution_count": 112,
   "id": "63cab6cb-5e44-4685-9ea7-e7821101f7b8",
   "metadata": {},
   "outputs": [],
   "source": [
    "# a generic function to create count plot\n",
    "def count_plot(features,df):\n",
    "    cols=4\n",
    "    rows = len(features)//cols +1\n",
    "    fig = plt.figure(figsize=(16, rows*5))\n",
    "    dataframe = df.copy()\n",
    "    for plot, feature in enumerate(features):\n",
    "        fig.add_subplot(rows,cols,plot+1)\n",
    "        fig.tight_layout(h_pad=5, w_pad=5)\n",
    "        dataframe[feature] = dataframe[feature].fillna('Missing')\n",
    "        ax = sns.countplot(x=feature, data=dataframe,order = dataframe[feature].value_counts().index)\n",
    "        plt.xticks(rotation = 90)\n",
    "        plt.title(\"for {}\".format(feature))\n",
    "        for p in ax.patches:\n",
    "            height = p.get_height()\n",
    "            ax.text(p.get_x()+p.get_width()/2.,\n",
    "                    height + 3,\n",
    "                    '{:1.2f}'.format(height/len(dataframe) * 100),\n",
    "                    ha=\"center\")"
   ]
  },
  {
   "cell_type": "markdown",
   "id": "7ca12066-c0e4-4b19-b8e1-95d6b9d4b8b9",
   "metadata": {},
   "source": [
    "# Univariate Data Analysis on datasets"
   ]
  },
  {
   "cell_type": "code",
   "execution_count": 110,
   "id": "9e1482f6-77ef-4c3d-9e1c-675c72aa18fd",
   "metadata": {},
   "outputs": [],
   "source": [
    "# Store Data categorical fields\n",
    "store_categorical_fields=['StoreType',\n",
    "                          'Assortment',\n",
    "                          'CompetitionOpenSinceMonth',\n",
    "                          'CompetitionOpenSinceYear',\n",
    "                          'Promo2',\n",
    "                          'Promo2SinceWeek',\n",
    "                          'Promo2SinceYear',\n",
    "                          'PromoInterval'\n",
    "                         ]"
   ]
  },
  {
   "cell_type": "code",
   "execution_count": 114,
   "id": "f10508fb-87b8-4e2f-ab76-2ceddbb959ca",
   "metadata": {},
   "outputs": [
    {
     "data": {
      "image/png": "[encoded data removed]",
      "text/plain": [
       "<Figure size 1600x1500 with 8 Axes>"
      ]
     },
     "metadata": {},
     "output_type": "display_data"
    }
   ],
   "source": [
    "# plot\n",
    "count_plot(store_categorical_fields,store)"
   ]
  },
  {
   "cell_type": "code",
   "execution_count": null,
   "id": "9bff19be-3886-4ad8-9ab1-e8bcd23b71ee",
   "metadata": {},
   "outputs": [],
   "source": []
  },
  {
   "cell_type": "code",
   "execution_count": null,
   "id": "0ad90ae1-6d00-4000-9950-9230788b819b",
   "metadata": {},
   "outputs": [],
   "source": []
  },
  {
   "cell_type": "code",
   "execution_count": 70,
   "id": "b97a8324-a00c-4d41-b56a-04384ee7c1df",
   "metadata": {},
   "outputs": [
    {
     "data": {
      "text/html": [
       "<div>\n",
       "<style scoped>\n",
       "    .dataframe tbody tr th:only-of-type {\n",
       "        vertical-align: middle;\n",
       "    }\n",
       "\n",
       "    .dataframe tbody tr th {\n",
       "        vertical-align: top;\n",
       "    }\n",
       "\n",
       "    .dataframe thead th {\n",
       "        text-align: right;\n",
       "    }\n",
       "</style>\n",
       "<table border=\"1\" class=\"dataframe\">\n",
       "  <thead>\n",
       "    <tr style=\"text-align: right;\">\n",
       "      <th></th>\n",
       "      <th>Store</th>\n",
       "      <th>CompetitionDistance</th>\n",
       "      <th>CompetitionOpenSinceMonth</th>\n",
       "      <th>CompetitionOpenSinceYear</th>\n",
       "      <th>Promo2</th>\n",
       "      <th>Promo2SinceWeek</th>\n",
       "      <th>Promo2SinceYear</th>\n",
       "    </tr>\n",
       "  </thead>\n",
       "  <tbody>\n",
       "    <tr>\n",
       "      <th>count</th>\n",
       "      <td>1115.00000</td>\n",
       "      <td>1112.000000</td>\n",
       "      <td>761.000000</td>\n",
       "      <td>761.000000</td>\n",
       "      <td>1115.000000</td>\n",
       "      <td>571.000000</td>\n",
       "      <td>571.000000</td>\n",
       "    </tr>\n",
       "    <tr>\n",
       "      <th>mean</th>\n",
       "      <td>558.00000</td>\n",
       "      <td>5404.901079</td>\n",
       "      <td>7.224704</td>\n",
       "      <td>2008.668857</td>\n",
       "      <td>0.512108</td>\n",
       "      <td>23.595447</td>\n",
       "      <td>2011.763573</td>\n",
       "    </tr>\n",
       "    <tr>\n",
       "      <th>std</th>\n",
       "      <td>322.01708</td>\n",
       "      <td>7663.174720</td>\n",
       "      <td>3.212348</td>\n",
       "      <td>6.195983</td>\n",
       "      <td>0.500078</td>\n",
       "      <td>14.141984</td>\n",
       "      <td>1.674935</td>\n",
       "    </tr>\n",
       "    <tr>\n",
       "      <th>min</th>\n",
       "      <td>1.00000</td>\n",
       "      <td>20.000000</td>\n",
       "      <td>1.000000</td>\n",
       "      <td>1900.000000</td>\n",
       "      <td>0.000000</td>\n",
       "      <td>1.000000</td>\n",
       "      <td>2009.000000</td>\n",
       "    </tr>\n",
       "    <tr>\n",
       "      <th>25%</th>\n",
       "      <td>279.50000</td>\n",
       "      <td>717.500000</td>\n",
       "      <td>4.000000</td>\n",
       "      <td>2006.000000</td>\n",
       "      <td>0.000000</td>\n",
       "      <td>13.000000</td>\n",
       "      <td>2011.000000</td>\n",
       "    </tr>\n",
       "    <tr>\n",
       "      <th>50%</th>\n",
       "      <td>558.00000</td>\n",
       "      <td>2325.000000</td>\n",
       "      <td>8.000000</td>\n",
       "      <td>2010.000000</td>\n",
       "      <td>1.000000</td>\n",
       "      <td>22.000000</td>\n",
       "      <td>2012.000000</td>\n",
       "    </tr>\n",
       "    <tr>\n",
       "      <th>75%</th>\n",
       "      <td>836.50000</td>\n",
       "      <td>6882.500000</td>\n",
       "      <td>10.000000</td>\n",
       "      <td>2013.000000</td>\n",
       "      <td>1.000000</td>\n",
       "      <td>37.000000</td>\n",
       "      <td>2013.000000</td>\n",
       "    </tr>\n",
       "    <tr>\n",
       "      <th>max</th>\n",
       "      <td>1115.00000</td>\n",
       "      <td>75860.000000</td>\n",
       "      <td>12.000000</td>\n",
       "      <td>2015.000000</td>\n",
       "      <td>1.000000</td>\n",
       "      <td>50.000000</td>\n",
       "      <td>2015.000000</td>\n",
       "    </tr>\n",
       "  </tbody>\n",
       "</table>\n",
       "</div>"
      ],
      "text/plain": [
       "            Store  CompetitionDistance  CompetitionOpenSinceMonth  \\\n",
       "count  1115.00000          1112.000000                 761.000000   \n",
       "mean    558.00000          5404.901079                   7.224704   \n",
       "std     322.01708          7663.174720                   3.212348   \n",
       "min       1.00000            20.000000                   1.000000   \n",
       "25%     279.50000           717.500000                   4.000000   \n",
       "50%     558.00000          2325.000000                   8.000000   \n",
       "75%     836.50000          6882.500000                  10.000000   \n",
       "max    1115.00000         75860.000000                  12.000000   \n",
       "\n",
       "       CompetitionOpenSinceYear       Promo2  Promo2SinceWeek  Promo2SinceYear  \n",
       "count                761.000000  1115.000000       571.000000       571.000000  \n",
       "mean                2008.668857     0.512108        23.595447      2011.763573  \n",
       "std                    6.195983     0.500078        14.141984         1.674935  \n",
       "min                 1900.000000     0.000000         1.000000      2009.000000  \n",
       "25%                 2006.000000     0.000000        13.000000      2011.000000  \n",
       "50%                 2010.000000     1.000000        22.000000      2012.000000  \n",
       "75%                 2013.000000     1.000000        37.000000      2013.000000  \n",
       "max                 2015.000000     1.000000        50.000000      2015.000000  "
      ]
     },
     "execution_count": 70,
     "metadata": {},
     "output_type": "execute_result"
    }
   ],
   "source": [
    "# describe store\n",
    "store.describe()"
   ]
  },
  {
   "cell_type": "code",
   "execution_count": null,
   "id": "0ac25fdb-71f6-49a6-8302-a06aa8564858",
   "metadata": {},
   "outputs": [],
   "source": []
  }
 ],
 "metadata": {
  "kernelspec": {
   "display_name": "Python 3 (ipykernel)",
   "language": "python",
   "name": "python3"
  },
  "language_info": {
   "codemirror_mode": {
    "name": "ipython",
    "version": 3
   },
   "file_extension": ".py",
   "mimetype": "text/x-python",
   "name": "python",
   "nbconvert_exporter": "python",
   "pygments_lexer": "ipython3",
   "version": "3.12.4"
  }
 },
 "nbformat": 4,
 "nbformat_minor": 5
}
